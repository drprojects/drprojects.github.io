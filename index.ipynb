{
 "cells": [
  {
   "cell_type": "markdown",
   "metadata": {},
   "source": [
    "METADATA\n",
    "TITLE <img height=\"150\" class=profilepicture src=\"images/icons/romain_v2_mini.JPG\">Romain Loiseau\n",
    "SUBTITLE <sup>1</sup>LIGM, Ecole des Ponts, Univ Gustave Eiffel, CNRS, France<br><sup>2</sup>LASTIG, Univ. Gustave Eiffel, ENSG, IGN, F-94160 Saint-Mande, France\n",
    "BTNS (<img height=\"50\" src=\"images/icons/github.png\">GitHub, https://github.com/romainloiseau); (<img height=\"50\" src=\"images/icons/mail.png\">Mail, mailto:romain.loiseau.2015@polytechnique.org); (<img height=\"50\" src=\"images/icons/linkedin.png\">LinkedIn, https://www.linkedin.com/in/loiseaur/); (<img height=\"50\" src=\"images/icons/pdf.png\">Academic CV, files/CV_EN_academic_LOISEAU.pdf)"
   ]
  },
  {
   "cell_type": "markdown",
   "metadata": {},
   "source": [
    "# Summary\n",
    "\n",
    "Summary I am a PhD student at the École des Ponts in the computer vision team IMAGINE (LIGM, École des Ponts, Univ Gustave Eiffel, CNRS) and at the IGN—the French Mapping Agency—in the machine learning team STRUDEL (LASTIG, Univ Gustave Eiffel, IGN/ENSG), advised by Mathieu Aubry and Loïc Landrieu. I am interested in optimisation and machine learning for 3D data, with a focus on unsupervised learning, interpretability, and real-time applications.\n",
    "\n",
    "# Supervisors\n",
    "\n",
    "- <a href=\"https://imagine.enpc.fr/~aubrym\">Mathieu Aubry</a> (LIGM, Ecole des Ponts, Univ Gustave Eiffel, CNRS, France)\n",
    "- <a href=\"https://loiclandrieu.com/\">Loïc Landrieu</a> (Univ Paris-Est, IGN-ENSG, LaSTIG, STRUDEL, Saint-Mandé, France)"
   ]
  },
  {
   "cell_type": "markdown",
   "metadata": {},
   "source": [
    "# Publications\n",
    "\n",
    "<div class=\"tom_table\">\n",
    "  <div class=\"tom_row\">\n",
    "    <div class=\"tom_cell\" style=\"width:40%\">\n",
    "        <a href=\"https://romainloiseau.github.io/deep-linear-shapes/\"><img src=\"images/1_DLM/dti3d.jpg\" alt=\"dti3d.jpg\"></a>\n",
    "    </div>\n",
    "    <div class=\"tom_cell_text\">\n",
    "      <b><a href=\"https://romainloiseau.github.io/deep-linear-shapes/\">Representing Shape Collections with Alignment-Aware Linear Models</a></b><br>\n",
    "      \n",
    "      <a href=\"\">Romain Loiseau</a>, <a href=\"https://imagine.enpc.fr/~monniert\">Tom Monnier</a>, <a href=\"https://imagine.enpc.fr/~aubrym\">Mathieu Aubry</a>, <a href=\"https://loiclandrieu.com/\">Loïc Landrieu</a><br>\n",
    "      <a href=https://arxiv.org/abs/2109.01605>Paper</a> | <a href=\"https://romainloiseau.github.io/deep-linear-shapes/\">Webpage</a> | <a href=\"https://github.com/romainloiseau/deep-linear-shapes\">Code</a> | <a href=\"https://romainloiseau.github.io/deep-linear-shapes/docs/SLIDES_3DV2021.pdf\">Slides</a> | <a href=https://slideslive.com/38972354/representing-shape-collections-with-alignmentaware-linear-models?ref=account-folder-92953-folders>Long video</a> | <a href=https://slideslive.com/38972213/representing-shape-collections-with-alignmentaware-linear-models?ref=account-folder-92951-folders>Short video</a>\n",
    "      <p>\n",
    "      We characterize 3D shapes as affine transformations of linear families learned without supervision, and showcase its advantages on large shape collections.\n",
    "      </p>\n",
    "      <p>\n",
    "        This work is an extension of the <i>Deep Transformation-Invariant Clustering</i> framework from <a href=\"https://imagine.enpc.fr/~monniert\">Tom Monnier</a> <i>et al.</i> for 3D tasks such as clustering and few-shot segmentation.\n",
    "      </p>\n",
    "    </div>\n",
    "  </div>\n",
    "</div>"
   ]
  },
  {
   "cell_type": "markdown",
   "metadata": {},
   "source": [
    "# Short CV\n",
    "\n",
    "| | |\n",
    "|------ |------|\n",
    "| **2020-now** | PhD student on \"Semantic segmentation of dynamic 3D point clouds\" supervised by Mathieu Aubry and Loic Landrieu. |\n",
    "| **Summer 2019** | Research project on generative adversarial network for MRI spine labelling at GE Healthcare supervised by Mathieu Aubry. |\n",
    "| **2018-2019** | Mathematics, Vision and Learning (MVA) master of the ENS-Cachan & engineering program of Ecole des Ponts ParisTech. |\n",
    "| **Summer 2018** | Research project on the semantic segmentation of 3D point clouds using deep learning at Bentley Systems with Renaud Keriven. |\n",
    "| **2015-2018** | Master in Computer science and biology at the Ecole polytechnique. |"
   ]
  },
  {
   "cell_type": "markdown",
   "metadata": {},
   "source": [
    "# Affiliations\n",
    "\n",
    "- [LIGM (UMR 8049)](http://ligm.u-pem.fr/), [Ecole des Ponts](https://www.ecoledesponts.fr/), [Univ. Gustave Eiffel](https://www.univ-gustave-eiffel.fr/), [CNRS](https://www.cnrs.fr/fr/page-daccueil)\n",
    "- [LASTIG-STRUDEL](https://www.umr-lastig.fr/), [IGN](https://ign.fr/)-[ENSG](https://www.ensg.eu/), [Univ. Gustave Eiffel](https://www.univ-gustave-eiffel.fr/)"
   ]
  },
  {
   "cell_type": "markdown",
   "metadata": {},
   "source": [
    "<ul class=\"hfig\">\n",
    "    <li><img style=\"height:7vw;\" src=\"images/icons/lastig.png\"></li>\n",
    "    <li><img style=\"height:7vw;\" src=\"images/icons/uge.png\"></li>\n",
    "    <li><img style=\"height:7vw;\" src=\"images/icons/ligm.png\"></li>\n",
    "</ul>\n",
    "\n",
    "<ul class=\"hfig\">\n",
    "    <li><img style=\"height:7vw;\" src=\"images/icons/ign.png\"></li>\n",
    "    <li><img style=\"height:7vw;\" src=\"images/icons/mte.png\"></li>\n",
    "    <li><img style=\"height:7vw;\" src=\"images/icons/enpc.png\"></li>\n",
    "</ul>"
   ]
  }
 ],
 "metadata": {
  "interpreter": {
   "hash": "ef1390d3a587d6d50643b45dfc69931d9a376311c8a47a107aa062f03a148159"
  },
  "kernelspec": {
   "display_name": "Python 3",
   "language": "python",
   "name": "python3"
  },
  "language_info": {
   "codemirror_mode": {
    "name": "ipython",
    "version": 3
   },
   "file_extension": ".py",
   "mimetype": "text/x-python",
   "name": "python",
   "nbconvert_exporter": "python",
   "pygments_lexer": "ipython3",
   "version": "3.6.12"
  }
 },
 "nbformat": 4,
 "nbformat_minor": 4
}
